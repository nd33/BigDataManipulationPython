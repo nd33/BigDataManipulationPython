{
 "cells": [
  {
   "cell_type": "markdown",
   "metadata": {},
   "source": [
    "# CS2006 Python Practical 2"
   ]
  },
  {
   "cell_type": "markdown",
   "metadata": {},
   "source": [
    "The first requirement for the practical is to refine the dataset. "
   ]
  },
  {
   "cell_type": "code",
   "execution_count": null,
   "metadata": {},
   "outputs": [],
   "source": [
    "import pandas as pd\n",
    "import numpy as np\n",
    "import matplotlib.pyplot as plt\n",
    "import matplotlib.patches as patch\n",
    "from ipywidgets import *\n",
    "%matplotlib inline\n",
    "import matplotlib.pyplot as plt\n",
    "from mpl_toolkits.mplot3d.axes3d import Axes3D, get_test_data\n",
    "from mpl_toolkits.mplot3d.art3d import Poly3DCollection\n",
    "from matplotlib import cm\n",
    "from operator import itemgetter\n",
    "\n",
    "import pandas as pd\n",
    "import numpy as np\n",
    "import plotly\n",
    "import plotly.graph_objs as go\n",
    "import plotly.plotly as py\n",
    "\n",
    "from ipywidgets import widgets \n",
    "from IPython.display import display\n",
    "from plotly.graph_objs import *\n",
    "from plotly.widgets import GraphWidget\n",
    "from plotly.offline import download_plotlyjs, init_notebook_mode, plot, iplot\n",
    "plotly.offline.init_notebook_mode(connected=True)\n",
    "\n",
    "import cufflinks as cf\n",
    "init_notebook_mode(connected=True)"
   ]
  },
  {
   "cell_type": "markdown",
   "metadata": {},
   "source": [
    "So first to make sure the data is initially read in correctly, the columns which should be numbers (and not containing any strings) are selected and forced into numeric columns. This means that if any of the columns had invalid data, in the format of string for example, then that cell gets changed to 'NaN'."
   ]
  },
  {
   "cell_type": "code",
   "execution_count": null,
   "metadata": {
    "collapsed": true
   },
   "outputs": [],
   "source": [
    "low_memory = False\n",
    "df=pd.read_csv(\"../data/census2011.csv\")\n",
    "#df=pd.read_csv(\"census2011.csv\")\n",
    "df[['Person ID','Family Composition', 'Population Base', 'Sex', 'Age',\n",
    "    'Marital Status','Student', 'Country of Birth', 'Health', 'Ethnic Group',\n",
    "    'Religion', 'Economic Activity', 'Occupation', 'Industry', 'Hours worked per week', 'Approximated Social Grade']]= df[['Person ID','Family Composition', 'Population Base', 'Sex', 'Age',\n",
    "    'Marital Status','Student', 'Country of Birth', 'Health', 'Ethnic Group',\n",
    "    'Religion', 'Economic Activity', 'Occupation', 'Industry', 'Hours worked per week', 'Approximated Social Grade']].apply(pd.to_numeric, errors='coerce')"
   ]
  },
  {
   "cell_type": "markdown",
   "metadata": {},
   "source": [
    "As shown below, the data types of the data set are numeric where expected."
   ]
  },
  {
   "cell_type": "code",
   "execution_count": null,
   "metadata": {},
   "outputs": [],
   "source": [
    "df.dtypes"
   ]
  },
  {
   "cell_type": "markdown",
   "metadata": {},
   "source": [
    "To actually refine the data, any rows containing a cell which is 'NaN' gets dropped, and any columns which are of type 'float' gets formatted."
   ]
  },
  {
   "cell_type": "code",
   "execution_count": null,
   "metadata": {
    "collapsed": true
   },
   "outputs": [],
   "source": [
    "refinedData = df.copy()\n",
    "refinedData = refinedData.dropna()\n",
    "pd.options.display.float_format = '{:,.0f}'.format"
   ]
  },
  {
   "cell_type": "markdown",
   "metadata": {},
   "source": [
    "More refining includes dropping any rows which are duplicates of another."
   ]
  },
  {
   "cell_type": "code",
   "execution_count": null,
   "metadata": {
    "collapsed": true
   },
   "outputs": [],
   "source": [
    "refinedData = refinedData.drop_duplicates()"
   ]
  },
  {
   "cell_type": "markdown",
   "metadata": {},
   "source": [
    "The final refining that takes place is to make sure all the values which are in the data set are valid values for it's column, meaning that all of the values are one of options specified in the file 'MicroDataTeachingVariables.pdf'."
   ]
  },
  {
   "cell_type": "code",
   "execution_count": null,
   "metadata": {
    "collapsed": true,
    "scrolled": true
   },
   "outputs": [],
   "source": [
    "#the different values each column can be\n",
    "regions = [\"E12000001\",\"E12000002\",\"E12000003\",\"E12000004\",\"E12000005\",\"E12000006\",\"E12000007\",\"E12000008\",\"E12000009\",\"W92000004\"]\n",
    "residenceType = [\"C\",\"H\"]\n",
    "famComp = [1,2,3,4,5,6,-9]\n",
    "popBase = [1,2,3]\n",
    "sex = [1,2]\n",
    "age = [1,2,3,4,5,6,7,8]\n",
    "maritalStatus = [1,2,3,4,5]\n",
    "student = [1,2]\n",
    "countryOfBirth = [1,2,-9]\n",
    "health = [1,2,3,4,5,-9]\n",
    "ethnicGroup = [1,2,3,4,5,-9]\n",
    "religion = [1,2,3,4,5,6,7,8,9,-9]\n",
    "econActivity = [1,2,3,4,5,6,7,8,9,-9]\n",
    "occupation = [1,2,3,4,5,6,7,8,9,-9]\n",
    "industry = [1,2,3,4,5,6,7,8,9,10,11,12,-9]\n",
    "hoursWorkPerWeek = [1,2,3,4,-9]\n",
    "approxSocialGrade = [1,2,3,4,-9]\n",
    "\n",
    "#keeps track of all the rows which has invalid rows\n",
    "rowsToRemove = []\n",
    "\n",
    "#going through each column and checking if the values are valid\n",
    "rCounter = 0\n",
    "regs = refinedData['Region']\n",
    "for reg in regs:\n",
    "    flag = 1\n",
    "    for region in regions:\n",
    "                if region == reg:\n",
    "                    flag = 0\n",
    "    if flag == 1:\n",
    "        rowsToRemove.append(rCounter)\n",
    "    rCounter = rCounter + 1\n",
    "\n",
    "rCounter = 0\n",
    "res = refinedData['Residence Type']  \n",
    "for r in res:\n",
    "    flag = 1\n",
    "    for resType in residenceType:\n",
    "                if resType == r:\n",
    "                    flag = 0\n",
    "    if flag == 1:\n",
    "        rowsToRemove.append(rCounter)\n",
    "    rCounter = rCounter + 1\n",
    "    \n",
    "rCounter = 0\n",
    "family = refinedData['Family Composition']  \n",
    "for comp in family:\n",
    "    flag = 1\n",
    "    for f in famComp:\n",
    "                if f == comp:\n",
    "                    flag = 0\n",
    "    if flag == 1:\n",
    "        rowsToRemove.append(rCounter)\n",
    "    rCounter = rCounter + 1\n",
    "\n",
    "rCounter = 0\n",
    "population = refinedData['Population Base']  \n",
    "for base in population:\n",
    "    flag = 1\n",
    "    for pop in popBase:\n",
    "                if pop == base:\n",
    "                    flag = 0\n",
    "    if flag == 1:\n",
    "        rowsToRemove.append(rCounter)\n",
    "    rCounter = rCounter + 1\n",
    "    \n",
    "rCounter = 0\n",
    "gender = refinedData['Sex']  \n",
    "for g in gender:\n",
    "    flag = 1\n",
    "    for gend in sex:\n",
    "                if gend == g:\n",
    "                    flag = 0\n",
    "    if flag == 1:\n",
    "        rowsToRemove.append(rCounter)\n",
    "    rCounter = rCounter + 1\n",
    "    \n",
    "rCounter = 0\n",
    "ageRange = refinedData['Age']  \n",
    "for rangee in ageRange:\n",
    "    flag = 1\n",
    "    for agee in age:\n",
    "                if agee == rangee:\n",
    "                    flag = 0\n",
    "    if flag == 1:\n",
    "        rowsToRemove.append(rCounter)\n",
    "    rCounter = rCounter + 1\n",
    "    \n",
    "rCounter = 0\n",
    "mStatus = refinedData['Marital Status']  \n",
    "for m in mStatus:\n",
    "    flag = 1\n",
    "    for married in maritalStatus:\n",
    "                if married == m:\n",
    "                    flag = 0\n",
    "    if flag == 1:\n",
    "        rowsToRemove.append(rCounter)\n",
    "    rCounter = rCounter + 1\n",
    "    \n",
    "rCounter = 0\n",
    "studs = refinedData['Student']  \n",
    "for stud in studs:\n",
    "    flag = 1\n",
    "    for isStud in student:\n",
    "                if isStud == stud:\n",
    "                    flag = 0\n",
    "    if flag == 1:\n",
    "        rowsToRemove.append(rCounter)\n",
    "    rCounter = rCounter + 1\n",
    "    \n",
    "rCounter = 0\n",
    "births = refinedData['Country of Birth']  \n",
    "for bir in births:\n",
    "    flag = 1\n",
    "    for country in countryOfBirth:\n",
    "                if country == bir:\n",
    "                    flag = 0\n",
    "    if flag == 1:\n",
    "        rowsToRemove.append(rCounter)\n",
    "    rCounter = rCounter + 1\n",
    "    \n",
    "rCounter = 0\n",
    "healths = refinedData['Health']  \n",
    "for heal in healths:\n",
    "    flag = 1\n",
    "    for he in health:\n",
    "                if he == heal:\n",
    "                    flag = 0\n",
    "    if flag == 1:\n",
    "        rowsToRemove.append(rCounter)\n",
    "    rCounter = rCounter + 1\n",
    "    \n",
    "rCounter = 0\n",
    "ethnics = refinedData['Ethnic Group']  \n",
    "for ethnic in ethnics:\n",
    "    flag = 1\n",
    "    for eth in ethnicGroup:\n",
    "                if eth == ethnic:\n",
    "                    flag = 0\n",
    "    if flag == 1:\n",
    "        rowsToRemove.append(rCounter)\n",
    "    rCounter = rCounter + 1\n",
    "    \n",
    "rCounter = 0\n",
    "religions = refinedData['Religion']  \n",
    "for rel in religions:\n",
    "    flag = 1\n",
    "    for reli in religion:\n",
    "                if reli == rel:\n",
    "                    flag = 0\n",
    "    if flag == 1:\n",
    "        rowsToRemove.append(rCounter)\n",
    "    rCounter = rCounter + 1\n",
    "    \n",
    "rCounter = 0\n",
    "economics = refinedData['Economic Activity']  \n",
    "for economic in economics:\n",
    "    flag = 1\n",
    "    for econ in econActivity:\n",
    "                if econ == economic:\n",
    "                    flag = 0\n",
    "    if flag == 1:\n",
    "        rowsToRemove.append(rCounter)\n",
    "    rCounter = rCounter + 1\n",
    "    \n",
    "rCounter = 0\n",
    "occupations = refinedData['Occupation']  \n",
    "for oc in occupations:\n",
    "    flag = 1\n",
    "    for occup in occupation:\n",
    "                if occup == oc:\n",
    "                    flag = 0\n",
    "    if flag == 1:\n",
    "        rowsToRemove.append(rCounter)\n",
    "    rCounter = rCounter + 1\n",
    "    if rCounter >200:\n",
    "        break\n",
    "\n",
    "rCounter = 0\n",
    "industries = refinedData['Industry']  \n",
    "for indust in industries:\n",
    "    flag = 1\n",
    "    for ind in industry:\n",
    "                if ind == indust:\n",
    "                    flag = 0\n",
    "    if flag == 1:\n",
    "        rowsToRemove.append(rCounter)\n",
    "    rCounter = rCounter + 1\n",
    "    \n",
    "rCounter = 0\n",
    "hoursWorked = refinedData['Hours worked per week']  \n",
    "for hours in hoursWorked:\n",
    "    flag = 1\n",
    "    for work in hoursWorkPerWeek:\n",
    "                if work == hours:\n",
    "                    flag = 0\n",
    "    if flag == 1:\n",
    "        rowsToRemove.append(rCounter)\n",
    "    rCounter = rCounter + 1\n",
    "    \n",
    "rCounter = 0\n",
    "grades = refinedData['Approximated Social Grade']  \n",
    "for grade in grades:\n",
    "    flag = 1\n",
    "    for approx in approxSocialGrade:\n",
    "                if approx == grade:\n",
    "                    flag = 0\n",
    "    if flag == 1:\n",
    "        rowsToRemove.append(rCounter)\n",
    "    rCounter = rCounter + 1\n",
    "    \n",
    "#reversing the list, so when the rows get removed from the DataFrame they don't mess up any of the other indexes, goes from the bottome to the top\n",
    "rowsToRemove.sort(reverse=True)\n",
    "\n",
    "for i in rowsToRemove:\n",
    "    refinedData = refinedData.drop(refinedData.index[[i]])\n",
    "\n",
    "#makes a new CSV file containing the refinedData\n",
    "refinedData.to_csv(\"refinedData.csv\")\n"
   ]
  },
  {
   "cell_type": "markdown",
   "metadata": {},
   "source": [
    "The second basic requirement is to perform descriptive analysis of the dataset.\n",
    "\n",
    "The first descriptive analysis task is to determine the total number of records in the dataset."
   ]
  },
  {
   "cell_type": "code",
   "execution_count": null,
   "metadata": {},
   "outputs": [],
   "source": [
    "len(refinedData)"
   ]
  },
  {
   "cell_type": "markdown",
   "metadata": {},
   "source": [
    "The second descriptice analysis task is to determine the type of each variable in the dataset."
   ]
  },
  {
   "cell_type": "code",
   "execution_count": null,
   "metadata": {},
   "outputs": [],
   "source": [
    "refinedData.dtypes"
   ]
  },
  {
   "cell_type": "markdown",
   "metadata": {},
   "source": [
    "The third descriptive analysis task is for each variable, except \"Person ID\", find all values that it takes, and the number of occurances for each value."
   ]
  },
  {
   "cell_type": "code",
   "execution_count": null,
   "metadata": {},
   "outputs": [],
   "source": [
    "region = refinedData.groupby('Region')\n",
    "region.size()"
   ]
  },
  {
   "cell_type": "code",
   "execution_count": null,
   "metadata": {},
   "outputs": [],
   "source": [
    "residenceType = refinedData.groupby('Residence Type')\n",
    "residenceType.size()"
   ]
  },
  {
   "cell_type": "code",
   "execution_count": null,
   "metadata": {},
   "outputs": [],
   "source": [
    "familyComposition = refinedData.groupby('Family Composition')\n",
    "familyComposition.size()"
   ]
  },
  {
   "cell_type": "code",
   "execution_count": null,
   "metadata": {},
   "outputs": [],
   "source": [
    "populationBase = refinedData.groupby('Population Base')\n",
    "populationBase.size()"
   ]
  },
  {
   "cell_type": "code",
   "execution_count": null,
   "metadata": {},
   "outputs": [],
   "source": [
    "sex = refinedData.groupby('Sex')\n",
    "sex.size()"
   ]
  },
  {
   "cell_type": "code",
   "execution_count": null,
   "metadata": {},
   "outputs": [],
   "source": [
    "age = refinedData.groupby('Age')\n",
    "age.size()"
   ]
  },
  {
   "cell_type": "code",
   "execution_count": null,
   "metadata": {},
   "outputs": [],
   "source": [
    "maritalStatus = refinedData.groupby('Marital Status')\n",
    "maritalStatus.size()"
   ]
  },
  {
   "cell_type": "code",
   "execution_count": null,
   "metadata": {},
   "outputs": [],
   "source": [
    "student = refinedData.groupby('Student')\n",
    "student.size()"
   ]
  },
  {
   "cell_type": "code",
   "execution_count": null,
   "metadata": {},
   "outputs": [],
   "source": [
    "countryOfBirth = refinedData.groupby('Country of Birth')\n",
    "countryOfBirth.size()"
   ]
  },
  {
   "cell_type": "code",
   "execution_count": null,
   "metadata": {},
   "outputs": [],
   "source": [
    "health = refinedData.groupby('Health')\n",
    "health.size()"
   ]
  },
  {
   "cell_type": "code",
   "execution_count": null,
   "metadata": {},
   "outputs": [],
   "source": [
    "ethnicGroup = refinedData.groupby('Ethnic Group')\n",
    "ethnicGroup.size()"
   ]
  },
  {
   "cell_type": "code",
   "execution_count": null,
   "metadata": {},
   "outputs": [],
   "source": [
    "religion = refinedData.groupby('Religion')\n",
    "religion.size()"
   ]
  },
  {
   "cell_type": "code",
   "execution_count": null,
   "metadata": {},
   "outputs": [],
   "source": [
    "economicActivity = refinedData.groupby('Economic Activity')\n",
    "economicActivity.size()"
   ]
  },
  {
   "cell_type": "code",
   "execution_count": null,
   "metadata": {},
   "outputs": [],
   "source": [
    "occupation = refinedData.groupby('Occupation')\n",
    "occupation.size()"
   ]
  },
  {
   "cell_type": "code",
   "execution_count": null,
   "metadata": {},
   "outputs": [],
   "source": [
    "industry = refinedData.groupby('Industry')\n",
    "industry.size()"
   ]
  },
  {
   "cell_type": "code",
   "execution_count": null,
   "metadata": {},
   "outputs": [],
   "source": [
    "hoursWorkedPerWeek = refinedData.groupby('Hours worked per week')\n",
    "hoursWorkedPerWeek.size()"
   ]
  },
  {
   "cell_type": "code",
   "execution_count": null,
   "metadata": {},
   "outputs": [],
   "source": [
    "approximatedSocialGrade = refinedData.groupby('Approximated Social Grade')\n",
    "approximatedSocialGrade.size()"
   ]
  },
  {
   "cell_type": "markdown",
   "metadata": {},
   "source": [
    "The third requirement was to build plots for the data specified in the practical specification.\n",
    "The first plot is a bar chart for the number of records for each region."
   ]
  },
  {
   "cell_type": "code",
   "execution_count": null,
   "metadata": {},
   "outputs": [],
   "source": [
    "refinedData['Region'].value_counts().plot(kind=\"bar\")\n",
    "\n",
    "#the legend for the plot\n",
    "region1_patch = patch.Patch(label='E12000008 = South East')\n",
    "region2_patch = patch.Patch(label='E12000007 = London')\n",
    "region3_patch = patch.Patch(label='E12000002 = North West')\n",
    "region4_patch = patch.Patch(label='E12000006 = East of England')\n",
    "region5_patch = patch.Patch(label='E12000005 = West Midlands')\n",
    "region6_patch = patch.Patch(label='E12000009 =  South West')\n",
    "region7_patch = patch.Patch(label='E12000003 = Yorkshire and the Humber')\n",
    "region8_patch = patch.Patch(label='E12000004 = East Midlands')\n",
    "region9_patch = patch.Patch(label='W92000004 = Wales')\n",
    "region10_patch = patch.Patch(label='E12000001 = North East')\n",
    "\n",
    "plt.legend(handles=[region1_patch,region2_patch,region3_patch,region4_patch,region5_patch,region6_patch,region7_patch,region8_patch,region9_patch,region10_patch], loc = 'lower right', bbox_to_anchor=(0.5,1.05))\n",
    "plt.show()"
   ]
  },
  {
   "cell_type": "markdown",
   "metadata": {},
   "source": [
    "The second plot is a bar chart for the number of records for each occupation."
   ]
  },
  {
   "cell_type": "code",
   "execution_count": null,
   "metadata": {},
   "outputs": [],
   "source": [
    "refinedData['Occupation'].value_counts().plot(kind=\"bar\")\n",
    "\n",
    "#the legend for the plot\n",
    "occupation1_patch = patch.Patch(label='-9 = People under 16 or People who have never worked')\n",
    "occupation2_patch = patch.Patch(label='2 = Professional Occupations')\n",
    "occupation3_patch = patch.Patch(label='9 = Elementary Occupations')\n",
    "occupation4_patch = patch.Patch(label='4 = Administrative and Secreterial Occupations')\n",
    "occupation5_patch = patch.Patch(label='5 = Skilled Trade Occupations')\n",
    "occupation6_patch = patch.Patch(label='3 = Associate Profession and Technical Occupations')\n",
    "occupation7_patch = patch.Patch(label='1 = Managers, Directors and Senior Officals')\n",
    "occupation8_patch = patch.Patch(label='7 = Sales and Customer Service Occupations')\n",
    "occupation9_patch = patch.Patch(label='6 = Caring, Leisure and Other Service Occupations')\n",
    "occupation10_patch = patch.Patch(label='8 = Process Plant and Machine Operatives')\n",
    "\n",
    "plt.legend(handles=[occupation1_patch,occupation2_patch,occupation3_patch,occupation4_patch,occupation5_patch,occupation6_patch,occupation7_patch,occupation8_patch,occupation9_patch,occupation10_patch], loc = 'lower right', bbox_to_anchor=(0.5,1.05))\n",
    "plt.show()"
   ]
  },
  {
   "cell_type": "markdown",
   "metadata": {},
   "source": [
    "The third plot is a pie chart for the distribution of the sample by age."
   ]
  },
  {
   "cell_type": "code",
   "execution_count": null,
   "metadata": {},
   "outputs": [],
   "source": [
    "colors = ['#ff0000', '#800000', '#cc3300', '#ffff00', '#ff9933', '#ffff99', '#663300', '#ff6600']\n",
    "    \n",
    "refinedData['Age'].value_counts().plot(kind=\"pie\", colors = colors)\n",
    "\n",
    "#the legend for the plot\n",
    "five_patch = patch.Patch(color='#cc3300', label='5 = 45-54 years')\n",
    "four_patch = patch.Patch(color='#800000', label='4 = 35-44 years')\n",
    "two_patch = patch.Patch(color='#ff9933', label='2 = 16-24 years')\n",
    "six_patch = patch.Patch(color='#ffff99', label='6 = 55-64 years')\n",
    "seven_patch = patch.Patch(color='#663300', label='7 = 65-74 years')\n",
    "one_patch = patch.Patch(color='#ff0000', label='1 = 0-15 years')\n",
    "eight_patch = patch.Patch(color='#ff6600', label='8 = 75 and Over years')\n",
    "three_patch = patch.Patch(color='#ffff00', label='3 = 25 to 34 years')\n",
    "\n",
    "plt.legend(handles=[one_patch, two_patch, three_patch, four_patch, five_patch, six_patch, seven_patch, eight_patch], loc = 'lower right', bbox_to_anchor=(0.5,1.05))\n",
    "plt.show()"
   ]
  },
  {
   "cell_type": "markdown",
   "metadata": {},
   "source": [
    "The forth plot is a pie chart for the distribution of the sample by the economic activity."
   ]
  },
  {
   "cell_type": "code",
   "execution_count": null,
   "metadata": {},
   "outputs": [],
   "source": [
    "colors = ['#009933', '#00cc66', '#009999', '#336699', '#003399', '#0099ff', '#00ffcc', '#3333cc', '#9999ff', '#99ccff']\n",
    "refinedData['Economic Activity'].value_counts().plot(kind=\"pie\", colors = colors)\n",
    "\n",
    "#the legend for the plot\n",
    "five_patch = patch.Patch(color='#009999', label='5 = Retired')\n",
    "minusnine_patch = patch.Patch(color='#00cc66', label='-9 = Aged under 16 or Student Living away from Home')\n",
    "six_patch = patch.Patch(color='#003399', label='6 = Student')\n",
    "three_patch = patch.Patch(color='#0099ff', label='3 = Unemployed')\n",
    "eight_patch = patch.Patch(color='#00ffcc', label='8 = Long-term sick or Disabled')\n",
    "one_patch = patch.Patch(color='#009933', label='1 =  Employee')\n",
    "seven_patch = patch.Patch(color='#3333cc', label='7 = Looking after home or family')\n",
    "four_patch = patch.Patch(color='#9999ff', label='4 = Full-time Student')\n",
    "nine_patch = patch.Patch(color='#99ccff', label='9 = Other')\n",
    "two_patch = patch.Patch(color='#336699', label = '2 = Self-employed')\n",
    "\n",
    "plt.legend(handles=[one_patch, two_patch, three_patch, four_patch, five_patch, six_patch, seven_patch, eight_patch, nine_patch, minusnine_patch], loc = 'lower right', bbox_to_anchor=(0.5,1.05))\n",
    "plt.show()"
   ]
  },
  {
   "cell_type": "markdown",
   "metadata": {},
   "source": [
    "The first easy additional requirement, is to produce two tables, using 'groupby' objects.\n",
    "The first table to be produced is the number of record by region and industry."
   ]
  },
  {
   "cell_type": "code",
   "execution_count": null,
   "metadata": {},
   "outputs": [],
   "source": [
    "byRegionAndIndustry = refinedData[['Region', 'Industry']].copy()\n",
    "byRegionAndIndustry = byRegionAndIndustry.groupby(['Region', 'Industry']).size()\n",
    "#this puts the data into a nicely formatted table and adds the Label Count\n",
    "byRegionAndIndustry.reset_index(name='Count')"
   ]
  },
  {
   "cell_type": "markdown",
   "metadata": {},
   "source": [
    "The second table to produce is the number of records by occupation and social grade."
   ]
  },
  {
   "cell_type": "code",
   "execution_count": null,
   "metadata": {},
   "outputs": [],
   "source": [
    "byOccupationAndSocialGrade = refinedData[['Occupation', 'Approximated Social Grade']].copy()\n",
    "byOccupationAndSocialGrade = byOccupationAndSocialGrade.groupby(['Occupation', 'Approximated Social Grade']).size()\n",
    "#this puts the data into a nicely formatted table and adds the Label Count\n",
    "byOccupationAndSocialGrade.reset_index(name='Count')"
   ]
  },
  {
   "cell_type": "markdown",
   "metadata": {},
   "source": [
    "The second easy additional requirement is to learn how to use pandas to perform various queries. The first being to find the number of economically active people by region. As shown by the table below, the number of economically active poeple per region are specified."
   ]
  },
  {
   "cell_type": "code",
   "execution_count": null,
   "metadata": {},
   "outputs": [],
   "source": [
    "data = refinedData[(refinedData['Economic Activity'] < 5) & (refinedData['Economic Activity']>-1)]\n",
    "\n",
    "byRegionAndEconomicActivity = data[['Region', 'Economic Activity']].copy()\n",
    "byRegionAndEconomicActivity = byRegionAndEconomicActivity.groupby(['Region']).size()\n",
    "#this puts the data into a nicely formatted table and adds the Label Count\n",
    "byRegionAndEconomicActivity.reset_index(name='Count')"
   ]
  },
  {
   "cell_type": "markdown",
   "metadata": {},
   "source": [
    "The second to find the number of economically active people by age., As shown by the table below the number of economically active people are shown sorted by age."
   ]
  },
  {
   "cell_type": "code",
   "execution_count": null,
   "metadata": {},
   "outputs": [],
   "source": [
    "data = refinedData[(refinedData['Economic Activity'] < 5) & (refinedData['Economic Activity']>-1)]\n",
    "\n",
    "byRegionAndEconomicActivity = data[['Age', 'Economic Activity']].copy()\n",
    "byRegionAndEconomicActivity = byRegionAndEconomicActivity.groupby(['Age']).size()\n",
    "#this puts the data into a nicely formatted table and adds the Label Count\n",
    "byRegionAndEconomicActivity.reset_index(name='Count')"
   ]
  },
  {
   "cell_type": "markdown",
   "metadata": {},
   "source": [
    "The thrid to find wherther or not there are any discrepancies between the student status given by the question \"Student\" and answers on the question \"Economic activity\". As shown below the number of discrepancies for poeple saying differing answers to the questions is counted."
   ]
  },
  {
   "cell_type": "code",
   "execution_count": null,
   "metadata": {},
   "outputs": [],
   "source": [
    "#getting the separate data for the answers to the relevant questions\n",
    "data = refinedData[((refinedData['Student'] == 2)) & (\n",
    "                   ((refinedData['Economic Activity'] == 4 ) |\n",
    "                   (refinedData['Economic Activity'] == 6 )))]\n",
    "print(\"The number of people who said 'no' to being a student, but answered that they were one of the student options \\nin the economically active question:\")\n",
    "print(\"\\t\",len(data))\n",
    "\n",
    "\n",
    "data = refinedData[((refinedData['Student'] == 1) & (\n",
    "                   ((refinedData['Economic Activity'] != 4 ) &\n",
    "                   (refinedData['Economic Activity'] != 6 ) &(refinedData['Economic Activity'] != -9))))]\n",
    "print(\"The number of people who said 'yes' to being a student, but answered that they weren't one of the student options \\nin the economically active question:\")\n",
    "print(\"\\t\",len(data))"
   ]
  },
  {
   "cell_type": "markdown",
   "metadata": {},
   "source": [
    "Finally, the forth is to find the number of working hours per week for students. As shown below the hours worked by students is counted and printed out in a table."
   ]
  },
  {
   "cell_type": "code",
   "execution_count": null,
   "metadata": {},
   "outputs": [],
   "source": [
    "data = refinedData[(refinedData['Economic Activity'] == 4) | (refinedData['Economic Activity'] == 6)]\n",
    "\n",
    "byRegionAndEconomicActivity = data[['Hours worked per week', 'Economic Activity']].copy()\n",
    "byRegionAndEconomicActivity = byRegionAndEconomicActivity.groupby(['Hours worked per week']).size()\n",
    "#this puts the data into a nicely formatted table and adds the Label Count\n",
    "byRegionAndEconomicActivity.reset_index(name='Count')"
   ]
  },
  {
   "cell_type": "markdown",
   "metadata": {},
   "source": [
    "The first medium additional requirement is to create 3D plots for the data from the tables made in the first east additional requirement.\n",
    "The first being the 3D plot for the number of records by region and industry. Instead of changing the values on the plot to be the values of the variables, a legend was used to keep things clear as the plot axis can quickly become hard to see and understand."
   ]
  },
  {
   "cell_type": "code",
   "execution_count": null,
   "metadata": {},
   "outputs": [],
   "source": [
    "#arrays which will be used as the labels for the plot\n",
    "regionarray = [\"E12000001\",\"E12000002\",\"E12000003\",\"E12000004\",\"E12000005\",\"E12000006\",\"E12000007\",\"E12000008\",\"E12000009\",\"W92000004\"]\n",
    "industryarray = [-9,1,2,3,4,5,6,7,8,9,10,11,12]\n",
    "\n",
    "fig = plt.figure()\n",
    "ax = fig.add_subplot(111, projection = '3d')\n",
    "ax = Axes3D(fig)\n",
    "ax.set_xlabel(\"Industry\")\n",
    "ax.set_ylabel(\"Region\")\n",
    "ax.set_zlabel(\"Count\")\n",
    "\n",
    "#getting teh specified data\n",
    "byRegionAndIndustry = refinedData[['Region', 'Industry']].copy()\n",
    "byRegionAndIndustry = byRegionAndIndustry.groupby(['Region', 'Industry'])\n",
    "\n",
    "#turning the count into the z axis\n",
    "z = byRegionAndIndustry.size().tolist()\n",
    "#getting all combinations of (x,y) for region and industry\n",
    "axes = byRegionAndIndustry.groups.keys()\n",
    "#sorting them so they are in the correct order for the corresponding counts\n",
    "axes = sorted(axes, key=itemgetter(1))\n",
    "axes = sorted(axes, key=itemgetter(0))\n",
    "#setting the number of rows and columns to be the range for all possible values\n",
    "x = list(range(0, len(regionarray)))\n",
    "y = list(range(0, len(industryarray)))\n",
    "ax.set_yticks(x)\n",
    "ax.set_xticks(y)\n",
    "#getting the separate values out of the tuples to be plotted\n",
    "X, Y = np.meshgrid(y,x)\n",
    "zs = np.array(z)\n",
    "Z = zs.reshape(Y.shape)\n",
    "\n",
    "values = np.linspace(0.2,1.,X.ravel().shape[0])\n",
    "colours = plt.cm.Spectral(values)\n",
    "#actually plotting the bar plot\n",
    "ax.bar3d(X.ravel(), Y.ravel(), Z.ravel()*0, dx=0.5, dy=0.5, dz=Z.ravel(), color=colours)\n",
    "ax.set_xticklabels(np.array(industryarray))\n",
    "ax.set_yticklabels(np.array(regionarray))\n",
    "\n",
    "#the legend for the plot\n",
    "five_patch = patch.Patch(color='white', label='5 = Accommodation and food service activities')\n",
    "minusnine_patch = patch.Patch(color='white', label='-9 = No code required')\n",
    "six_patch = patch.Patch(color='white', label='6 = Transport and storage; Information and communication')\n",
    "three_patch = patch.Patch(color='white', label='3 = Construction')\n",
    "eight_patch = patch.Patch(color='white', label='8 = Real estate activities, Professional, scientific and technical activities, Administrative and support service activities')\n",
    "one_patch = patch.Patch(color='white', label='1 =  Agriculture, forestry and fishing')\n",
    "seven_patch = patch.Patch(color='white', label='7 = Financial and insurance activities, Intermediation')\n",
    "four_patch = patch.Patch(color='white', label='4 = Wholesale and retail trade, Repair of motor vehicles and motorcycles')\n",
    "nine_patch = patch.Patch(color='white', label='9 = Public administration and defence, compulsory social security')\n",
    "two_patch = patch.Patch(color='white', label = '2 = Mining and quarrying, Manufacturing,  Electricity, gas, steam and air conditioning system, Water supply')\n",
    "ten_patch = patch.Patch(color='white', label='10 = Education')\n",
    "eleven_patch = patch.Patch(color='white', label='11 = Human health and social work activities')\n",
    "twelve_patch = patch.Patch(color='white', label = '12 = Other community, social and personal service activities, Private households employing domestic staff, Extra-territorial organisations and bodies')\n",
    "\n",
    "\n",
    "fivex_patch = patch.Patch(color='#E1F6AA', label='E12000005 = West Midlands')\n",
    "sixx_patch = patch.Patch(color='#8AD894', label='E12000006 = East of England')\n",
    "threex_patch = patch.Patch(color='#F9D582', label='E12000003 = Yorkshire and the Humber')\n",
    "eightx_patch = patch.Patch(color='#46C0B0', label='E12000008 = South East')\n",
    "onex_patch = patch.Patch(color='#D06038', label='E12000001 =  North East')\n",
    "sevenx_patch = patch.Patch(color='#70CCAD', label='E12000007 = London')\n",
    "fourx_patch = patch.Patch(color='#F9E7BD', label='E12000004 = East Midlands')\n",
    "ninex_patch = patch.Patch(color='#2C71C5', label='E12000009 = South West')\n",
    "twox_patch = patch.Patch(color='#E5904F', label = 'E12000002 = North West')\n",
    "tenx_patch = patch.Patch(color='#632CC5', label='W92000004 = Wales')\n",
    "\n",
    "plt.legend(handles=[one_patch, two_patch, three_patch, four_patch, five_patch, six_patch, seven_patch, eight_patch, nine_patch, ten_patch, eleven_patch, twelve_patch, minusnine_patch,onex_patch, twox_patch, threex_patch, fourx_patch, fivex_patch, sixx_patch, sevenx_patch, eightx_patch, ninex_patch, tenx_patch], loc = 'lower right', bbox_to_anchor=(1.8,1.3))\n",
    "\n",
    "plt.show()\n"
   ]
  },
  {
   "cell_type": "markdown",
   "metadata": {},
   "source": [
    "The second being the 3D plot for the number of records by occupation and social grade. Instead of changing the values on the plot to be the values of the variables, a legend was used to keep things clear as the plot axis can quickly become hard to see and understand."
   ]
  },
  {
   "cell_type": "code",
   "execution_count": null,
   "metadata": {},
   "outputs": [],
   "source": [
    "#the values which will be used as labels\n",
    "occupationarray = [-9,1,2,3,4,5,6,7,8,9]\n",
    "socialarray = [-9,1,2,3,4]\n",
    "\n",
    "fig = plt.figure()\n",
    "ax = fig.add_subplot(111, projection = '3d')\n",
    "ax = Axes3D(fig)\n",
    "ax.set_xlabel(\"Approximated Social Grade\")\n",
    "ax.set_ylabel(\"Occupation\")\n",
    "ax.set_zlabel(\"Count\")\n",
    "#separating out the relevant data\n",
    "byOccupationAndSocialGrade = refinedData[['Occupation', 'Approximated Social Grade']].copy()\n",
    "byOccupationAndSocialGrade = byOccupationAndSocialGrade.groupby(['Occupation', 'Approximated Social Grade'])\n",
    "#setting the counts to the z axis\n",
    "z = byOccupationAndSocialGrade.size().tolist()\n",
    "axes = byOccupationAndSocialGrade.groups.keys()\n",
    "#sorting the (x,y) coordinates\n",
    "axes = sorted(axes, key=itemgetter(1))\n",
    "axes = sorted(axes, key=itemgetter(0))\n",
    "#setting the number of rows and columns to be the range for all possible values\n",
    "x = list(range(0, len(occupationarray)))\n",
    "y = list(range(0, len(socialarray)))\n",
    "ax.set_yticks(x)\n",
    "ax.set_xticks(y)\n",
    "#turns x,y into 2D array\n",
    "X, Y = np.meshgrid(y,x)\n",
    "zs = np.array(z)\n",
    "Z = zs.reshape(X.shape)\n",
    "#setting the colors for the blocks, 'x coords', to be different for each one\n",
    "values = np.linspace(0.2,1.,X.ravel().shape[0])\n",
    "colours = plt.cm.Spectral(values)\n",
    "#ravel conversts it back into 1D array\n",
    "ax.bar3d(X.ravel(), Y.ravel(), Z.ravel()*0, dx=0.5, dy=0.5, dz=Z.ravel(), color=colours)\n",
    "ax.set_xticklabels(np.array(socialarray))\n",
    "ax.set_yticklabels(np.array(occupationarray))\n",
    "\n",
    "#the legend for the plot\n",
    "minusnine_patch = patch.Patch(color='white', label='-9 = No code required')\n",
    "three_patch = patch.Patch(color='white', label='3 = C2')\n",
    "one_patch = patch.Patch(color='white', label='1 =  AB')\n",
    "four_patch = patch.Patch(color='white', label='4 = DE')\n",
    "two_patch = patch.Patch(color='white', label = '2 = C1')\n",
    "\n",
    "fivex_patch = patch.Patch(color='#8AD894', label='5 = Skilled Trades Occupations')\n",
    "sixx_patch = patch.Patch(color='#70CCAD', label='6 = Caring, Leisure and Other Service Occupations')\n",
    "threex_patch = patch.Patch(color='#F9E7BD', label='3 = Associate Professional and Technical Occupations')\n",
    "eightx_patch = patch.Patch(color='#2C71C5', label='8 = Process, Plant and Machine Operatives')\n",
    "onex_patch = patch.Patch(color='#E5904F', label='1 =  Managers, Directors and Senior Officials')\n",
    "sevenx_patch = patch.Patch(color='#46C0B0', label='7 = Sales and Customer Service Occupations')\n",
    "fourx_patch = patch.Patch(color='#E1F6AA', label='4 = Administrative and Secretarial Occupations')\n",
    "ninex_patch = patch.Patch(color='#632CC5', label='9 = Elementary Occupations')\n",
    "twox_patch = patch.Patch(color='#F9D582', label = '2 = Professional Occupations')\n",
    "tenx_patch = patch.Patch(color='#D06038', label='-9 = No code required')\n",
    "\n",
    "plt.legend(handles=[one_patch, two_patch, three_patch, four_patch, minusnine_patch, tenx_patch, onex_patch, twox_patch, threex_patch, fourx_patch, fivex_patch, sixx_patch, sevenx_patch, eightx_patch, ninex_patch], loc = 'lower right', bbox_to_anchor=(0.5,1.3))\n",
    "\n",
    "plt.show()"
   ]
  },
  {
   "cell_type": "markdown",
   "metadata": {},
   "source": [
    "The second medium additional requirement is to use 'ipywidgets' to control plot properties. The first plot is plotting Region by the occurances of Age."
   ]
  },
  {
   "cell_type": "code",
   "execution_count": null,
   "metadata": {},
   "outputs": [],
   "source": [
    "#the function to allow nultiple plots to be made\n",
    "def update(Age = range(1,9)):\n",
    "    fig = plt.figure(figsize=(13,8))\n",
    "    ax = fig.add_subplot(1, 1, 1)\n",
    "    #getting the data where the data is equal to the value selected by the user\n",
    "    data = refinedData[(((refinedData['Age'] == Age )))]\n",
    "    data = data.groupby(['Region', 'Age'])\n",
    "    count = data.size().tolist()\n",
    "    ax.set_xticks(list(range(1, len(regionarray)+1)))\n",
    "    ax.set_xticklabels(np.array(regionarray))\n",
    "    ax.set_xlabel(\"Region\")\n",
    "    ax.set_ylabel(\"Count for Selected Age\")\n",
    "    #sets the x axis to the correct number of 'bar's\n",
    "    ax.bar([1,2,3,4,5,6,7,8,9,10], count)\n",
    "    #the legend for the plot\n",
    "    fivex_patch = patch.Patch(label='E12000005 = West Midlands')\n",
    "    sixx_patch = patch.Patch(label='E12000006 = East of England')\n",
    "    threex_patch = patch.Patch(label='E12000003 = Yorkshire and the Humber')\n",
    "    eightx_patch = patch.Patch(label='E12000008 = South East')\n",
    "    onex_patch = patch.Patch(label='E12000001 =  North East')\n",
    "    sevenx_patch = patch.Patch(label='E12000007 = London')\n",
    "    fourx_patch = patch.Patch(label='E12000004 = East Midlands')\n",
    "    ninex_patch = patch.Patch(label='E12000009 = South West')\n",
    "    twox_patch = patch.Patch(label = 'E12000002 = North West')\n",
    "    tenx_patch = patch.Patch(label='W92000004 = Wales')\n",
    "\n",
    "    five_patch = patch.Patch(color = 'white', label='Option 5 = 45 to 54')\n",
    "    six_patch = patch.Patch(color = 'white', label='Option 6 = 55 to 64')\n",
    "    three_patch = patch.Patch(color = 'white', label='Option 3 = 25 to 34')\n",
    "    eight_patch = patch.Patch(color = 'white', label='Option 8 = 75 and over')\n",
    "    one_patch = patch.Patch(color = 'white', label='Option 1 =  0 to 15')\n",
    "    seven_patch = patch.Patch(color = 'white', label='Option 7 = 65 to 74')\n",
    "    four_patch = patch.Patch(color = 'white', label='Option 4 = 35 to 44')\n",
    "    two_patch = patch.Patch(color = 'white', label = 'Option 2 = 16 to 24')\n",
    "    \n",
    "    plt.legend(handles=[one_patch, two_patch, three_patch, four_patch, five_patch, six_patch, seven_patch, eight_patch, onex_patch, twox_patch, threex_patch, fourx_patch, fivex_patch, sixx_patch, sevenx_patch, eightx_patch, ninex_patch, tenx_patch], bbox_to_anchor=(0.5,2))\n",
    "\n",
    "    fig.canvas.draw()\n",
    "\n",
    "interact(update);\n"
   ]
  },
  {
   "cell_type": "markdown",
   "metadata": {},
   "source": [
    "The next plot is Hours worked per week by Occupation."
   ]
  },
  {
   "cell_type": "code",
   "execution_count": null,
   "metadata": {},
   "outputs": [],
   "source": [
    "def update(Occupation = [1,2,3,4,5,6,7,8,9,-9]):\n",
    "    fig = plt.figure(figsize=(8,9))\n",
    "    ax = fig.add_subplot(1, 1, 1)\n",
    "    #getting the relvant data where it is equal to the value the user specified\n",
    "    data = refinedData[(((refinedData['Occupation'] == Occupation)))]\n",
    "    data = data.groupby(['Occupation', 'Hours worked per week'])\n",
    "    count = data.size().tolist()\n",
    "    ax.set_xticks(list(range(1, len(hoursWorkPerWeek)+1))+[-9])\n",
    "    ax.set_xlabel(\"Hours worked per Week\")\n",
    "    ax.set_ylabel(\"Count for selected Occupation\")\n",
    "     #the legend for the plot\n",
    "    minusnine_patch = patch.Patch( label='-9 = No code required')\n",
    "    three_patch = patch.Patch(label='3 = Full-time: 31 to 48 hours worked')\n",
    "    one_patch = patch.Patch(label='1 =  Part-time: 15 or less hours worked')\n",
    "    four_patch = patch.Patch( label='4 = Full-time: 49 or more hours worked')\n",
    "    two_patch = patch.Patch(label = '2 = Part-time: 16 to 30 hours worked')\n",
    "    \n",
    "    fivex_patch = patch.Patch(color='white', label='Option 5 = Skilled Trades Occupations')\n",
    "    sixx_patch = patch.Patch(color='white', label='Option 6 = Caring, Leisure and Other Service Occupations')\n",
    "    threex_patch = patch.Patch(color='white', label='Option 3 = Associate Professional and Technical Occupations')\n",
    "    eightx_patch = patch.Patch(color='white', label='Option 8 = Process, Plant and Machine Operatives')\n",
    "    onex_patch = patch.Patch(color='white', label='Option 1 =  Managers, Directors and Senior Officials')\n",
    "    sevenx_patch = patch.Patch(color='white', label='Option 7 = Sales and Customer Service Occupations')\n",
    "    fourx_patch = patch.Patch(color='white', label='Option 4 = Administrative and Secretarial Occupations')\n",
    "    ninex_patch = patch.Patch(color='white', label='Option 9 = Elementary Occupations')\n",
    "    twox_patch = patch.Patch(color='white', label = 'Option 2 = Professional Occupations')\n",
    "    tenx_patch = patch.Patch(color='white', label='Option -9 = No code required')\n",
    "\n",
    "    plt.legend(handles=[onex_patch,twox_patch, threex_patch,fourx_patch, fivex_patch,sixx_patch,sevenx_patch,eightx_patch,ninex_patch, tenx_patch, minusnine_patch, one_patch, two_patch, three_patch, four_patch], bbox_to_anchor=(1,1.8))\n",
    "\n",
    "    #making sure there is the right number of 'bar's in the plot as there is in the data\n",
    "    if len(count) == 1:\n",
    "        ax.bar([-9,1,2,3,4], count+[0,0,0,0])\n",
    "    else:\n",
    "        ax.bar([-9,1,2,3,4], count)\n",
    "    fig.canvas.draw()\n",
    "\n",
    "interact(update);\n"
   ]
  },
  {
   "cell_type": "markdown",
   "metadata": {},
   "source": [
    "The next plot is Ethnic group by Religion."
   ]
  },
  {
   "cell_type": "code",
   "execution_count": null,
   "metadata": {},
   "outputs": [],
   "source": [
    " def update(Religion = [1,2,3,4,5,6,7,8,9,-9]):\n",
    "    fig = plt.figure(figsize=(8,9))\n",
    "    ax = fig.add_subplot(1, 1, 1)\n",
    "    #getting the relvant data where it is equal to the value the user specified\n",
    "    data = refinedData[(((refinedData['Religion'] == Religion)))]\n",
    "    data = data.groupby(['Ethnic Group', 'Religion'])\n",
    "    count = data.size().tolist()\n",
    "    ax.set_xticks(list(range(1, len(ethnicGroup)+1))+[-9])\n",
    "    ax.set_xlabel(\"Ethnic Group\")\n",
    "    ax.set_ylabel(\"Count for selected Religion\")\n",
    "    #making sure there is the right number of 'bar's in the plot as there is in the data\n",
    "    #the legend for the plot\n",
    "    minusnine_patch = patch.Patch( label='-9 = No code required')\n",
    "    three_patch = patch.Patch(label='3 = Asian and Asian British')\n",
    "    one_patch = patch.Patch(label='1 =  White')\n",
    "    four_patch = patch.Patch( label='4 = Black or Black British')\n",
    "    two_patch = patch.Patch(label = '2 = Mixed')\n",
    "    five_patch = patch.Patch(label = '5 = Chinese or Other ethnic group')\n",
    "\n",
    "    fivex_patch = patch.Patch(color='white', label='Option 5 = Jewish')\n",
    "    sixx_patch = patch.Patch(color='white', label='Option 6 = Muslim')\n",
    "    threex_patch = patch.Patch(color='white', label='Option 3 = Buddhist')\n",
    "    eightx_patch = patch.Patch(color='white', label='Option 8 = Other religion')\n",
    "    onex_patch = patch.Patch(color='white', label='Option 1 =  No religion')\n",
    "    sevenx_patch = patch.Patch(color='white', label='Option 7 = Sikh')\n",
    "    fourx_patch = patch.Patch(color='white', label='Option 4 = Hindu')\n",
    "    ninex_patch = patch.Patch(color='white', label='Option 9 = Not stated')\n",
    "    twox_patch = patch.Patch(color='white', label = 'Option 2 = Christian')\n",
    "    tenx_patch = patch.Patch(color='white', label='Option -9 = No code required')\n",
    "    plt.legend(handles=[onex_patch,twox_patch, threex_patch,fourx_patch, fivex_patch,sixx_patch,sevenx_patch,eightx_patch,ninex_patch, tenx_patch, minusnine_patch, one_patch, two_patch, three_patch, four_patch, five_patch], bbox_to_anchor=(0.5,1.8))\n",
    "    if len(count) == 1:\n",
    "        ax.bar([-9,1,2,3,4,5], count+[0,0,0,0,0])\n",
    "    else:\n",
    "        ax.bar([-9,1,2,3,4,5], count+[0])\n",
    "    fig.canvas.draw()\n",
    "\n",
    "interact(update);\n"
   ]
  },
  {
   "cell_type": "markdown",
   "metadata": {},
   "source": [
    "The final plot is Health by Marital Status."
   ]
  },
  {
   "cell_type": "code",
   "execution_count": null,
   "metadata": {},
   "outputs": [],
   "source": [
    "def update(Status = widgets.IntSlider(min=1, max=5, step=1, value=1)):\n",
    "    fig = plt.figure(figsize=(9,15))\n",
    "    ax = fig.add_subplot(1, 1, 1)\n",
    "    #getting the relvant data where it is equal to the value the user specified\n",
    "    data = refinedData[(((refinedData['Marital Status'] == Status)))]\n",
    "    data = data.groupby(['Marital Status', 'Health'])\n",
    "    count = data.size().tolist()\n",
    "    ax.set_xticks(list(range(1, len(health)+1))+[-9])\n",
    "    ax.set_xlabel(\"Health\")\n",
    "    ax.set_ylabel(\"Count for selected Marital Status\")\n",
    "    #making sure there is the right number of 'bar's in the plot as there is in the data\n",
    "    #the legend for the plot\n",
    "    minusnine_patch = patch.Patch( label='-9 = No code required')\n",
    "    three_patch = patch.Patch(label='3 = Fair health')\n",
    "    one_patch = patch.Patch(label='1 =  Very good health')\n",
    "    four_patch = patch.Patch( label='4 = Bad health')\n",
    "    two_patch = patch.Patch(label = '2 = Good health')\n",
    "    five_patch = patch.Patch(label = '5 = Very bad health')\n",
    "    threey_patch = patch.Patch(color = 'white', label='Option 3 = Separated but still legally married or separated but still legally in a same-sex civil partnership')\n",
    "    oney_patch = patch.Patch(color = 'white', label='Option 1 =  Single (never married or never registered a same-sex civil partnership)')\n",
    "    foury_patch = patch.Patch( color = 'white', label='Option 4 = Divorced or formerly in a same-sex civil partnership which is now legally dissolved')\n",
    "    twoy_patch = patch.Patch(color = 'white', label = 'Option 2 = Married or in a registered same-sex civil partnership')\n",
    "    fivey_patch = patch.Patch(color = 'white', label = 'Option 5 = Widowed or surviving partner from a same-sex civil partnership')\n",
    "\n",
    "    plt.legend(handles=[minusnine_patch, one_patch, two_patch, three_patch, four_patch, five_patch, oney_patch, twoy_patch, threey_patch, foury_patch, fivey_patch], bbox_to_anchor=(1,1.3))\n",
    "    if len(count) == 1:\n",
    "        ax.bar([-9,1,2,3,4,5], count+[0,0,0,0,0])\n",
    "    else:\n",
    "        ax.bar([-9,1,2,3,4,5], count)\n",
    "    fig.canvas.draw()\n",
    "\n",
    "interact(update);"
   ]
  }
 ],
 "metadata": {
  "kernelspec": {
   "display_name": "Python 3",
   "language": "python",
   "name": "python3"
  },
  "language_info": {
   "codemirror_mode": {
    "name": "ipython",
    "version": 3
   },
   "file_extension": ".py",
   "mimetype": "text/x-python",
   "name": "python",
   "nbconvert_exporter": "python",
   "pygments_lexer": "ipython3",
   "version": "3.5.3"
  }
 },
 "nbformat": 4,
 "nbformat_minor": 1
}
